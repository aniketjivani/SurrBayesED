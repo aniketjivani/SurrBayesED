{
 "cells": [
  {
   "cell_type": "markdown",
   "metadata": {},
   "source": [
    "Accounting for air resistance proportional to instantaneous velocity, the coordinates of a ball launched from initial height $h$ in the $xy$ plane, with velocity $v_0$ at an angle $\\theta$ with drag coefficient $c$ are:\n",
    "\n",
    "$$x(t) = \\frac{v_0 v_t \\cos \\theta}{g} \\left(1 - \\exp \\left(\\frac{-gt}{v_t} \\right)\\right)$$\n",
    "\n",
    "$$y(t) = h + \\frac{v_t}{g}(v_0 \\sin \\theta + v_t) \\left(1 - \\exp \\left(\\frac{-gt}{v_t}\\right) \\right) -v_t t$$\n",
    "\n",
    "where the terminal velocity $v_t$ is given by:\n",
    "\n",
    "$$v_t = \\frac{mg}{c}$$\n"
   ]
  },
  {
   "cell_type": "markdown",
   "metadata": {},
   "source": [
    "Now the goal is to test the above for various settings of $\\theta$, $v_0$, $h$ and $c$."
   ]
  },
  {
   "cell_type": "markdown",
   "metadata": {},
   "source": [
    "One nice visualization is given here: https://dynref.engr.illinois.edu/afp.html"
   ]
  },
  {
   "cell_type": "code",
   "execution_count": 16,
   "metadata": {},
   "outputs": [],
   "source": [
    "import numpy as np\n",
    "import matplotlib.pyplot as plt\n",
    "import math"
   ]
  },
  {
   "cell_type": "code",
   "execution_count": 17,
   "metadata": {},
   "outputs": [],
   "source": [
    "c=0.4\n",
    "g=9.81\n",
    "m=1\n",
    "h=0\n",
    "θ=20*np.pi/180\n",
    "v0=6"
   ]
  },
  {
   "cell_type": "code",
   "execution_count": 23,
   "metadata": {},
   "outputs": [],
   "source": [
    "def pos(t, v0=2, m=1, g=9.81, c=0.2, h=8, θ=60*np.pi/180):\n",
    "    v_tm = v_term(m=m, g=g, c=c)\n",
    "    \n",
    "    xpos = v0 * v_tm * (np.cos(θ)/g) * (1 - np.exp( -g * t / v_tm))\n",
    "    \n",
    "    ypos = h + (v_tm/g) * (v0 * np.sin(θ) + v_tm) * (1 - np.exp( -g * t / v_tm)) - v_tm * t\n",
    "    \n",
    "    return xpos, ypos\n",
    "\n",
    "def v_term(m=1, g=9.81, c=0.2):\n",
    "    return m * g / c\n",
    "\n",
    "def tof(v0=2, g=9.81, θ=60*np.pi/180):\n",
    "    return 2 * v0 * np.sin(θ)/g"
   ]
  },
  {
   "cell_type": "code",
   "execution_count": 24,
   "metadata": {},
   "outputs": [],
   "source": [
    "tt = np.linspace(0, tof(v0=v0, g=g, θ=θ), 100)\n",
    "x_pos, y_pos = pos(tt, v0=v0, m=m, g=g, c=c, h=h, θ=θ)"
   ]
  },
  {
   "cell_type": "code",
   "execution_count": 26,
   "metadata": {},
   "outputs": [
    {
     "data": {
      "text/plain": [
       "array([ 0.        ,  0.00857737,  0.01696521,  0.02516383,  0.03317356,\n",
       "        0.0409947 ,  0.04862759,  0.05607254,  0.06332987,  0.07039989,\n",
       "        0.07728292,  0.08397927,  0.09048927,  0.09681322,  0.10295144,\n",
       "        0.10890425,  0.11467195,  0.12025486,  0.1256533 ,  0.13086756,\n",
       "        0.13589798,  0.14074484,  0.14540847,  0.14988918,  0.15418727,\n",
       "        0.15830305,  0.16223683,  0.16598892,  0.16955962,  0.17294924,\n",
       "        0.17615809,  0.17918647,  0.18203468,  0.18470304,  0.18719184,\n",
       "        0.18950139,  0.19163199,  0.19358394,  0.19535754,  0.1969531 ,\n",
       "        0.19837092,  0.19961129,  0.20067452,  0.20156091,  0.20227075,\n",
       "        0.20280434,  0.20316198,  0.20334397,  0.2033506 ,  0.20318217,\n",
       "        0.20283898,  0.20232131,  0.20162948,  0.20076376,  0.19972446,\n",
       "        0.19851186,  0.19712626,  0.19556795,  0.19383723,  0.19193438,\n",
       "        0.18985969,  0.18761346,  0.18519598,  0.18260753,  0.1798484 ,\n",
       "        0.17691888,  0.17381926,  0.17054983,  0.16711087,  0.16350267,\n",
       "        0.15972552,  0.1557797 ,  0.15166549,  0.14738318,  0.14293306,\n",
       "        0.1383154 ,  0.13353049,  0.12857862,  0.12346006,  0.11817509,\n",
       "        0.11272401,  0.10710708,  0.10132459,  0.09537681,  0.08926404,\n",
       "        0.08298654,  0.07654459,  0.06993847,  0.06316846,  0.05623484,\n",
       "        0.04913788,  0.04187786,  0.03445505,  0.02686973,  0.01912217,\n",
       "        0.01121264,  0.00314143, -0.0050912 , -0.01348497, -0.02203962])"
      ]
     },
     "execution_count": 26,
     "metadata": {},
     "output_type": "execute_result"
    }
   ],
   "source": [
    "y_pos"
   ]
  },
  {
   "cell_type": "code",
   "execution_count": null,
   "metadata": {},
   "outputs": [],
   "source": [
    "trunc_time = "
   ]
  },
  {
   "cell_type": "code",
   "execution_count": 27,
   "metadata": {},
   "outputs": [
    {
     "data": {
      "text/plain": [
       "<matplotlib.collections.PathCollection at 0x7f84a1329a60>"
      ]
     },
     "execution_count": 27,
     "metadata": {},
     "output_type": "execute_result"
    },
    {
     "data": {
      "image/png": "[encoded data removed]",
      "text/plain": [
       "<Figure size 640x480 with 1 Axes>"
      ]
     },
     "metadata": {},
     "output_type": "display_data"
    }
   ],
   "source": [
    "plt.scatter(x_pos, y_pos)"
   ]
  },
  {
   "cell_type": "code",
   "execution_count": null,
   "metadata": {},
   "outputs": [],
   "source": []
  }
 ],
 "metadata": {
  "@webio": {
   "lastCommId": null,
   "lastKernelId": null
  },
  "kernelspec": {
   "display_name": "Python 3 (ipykernel)",
   "language": "python",
   "name": "python3"
  },
  "language_info": {
   "codemirror_mode": {
    "name": "ipython",
    "version": 3
   },
   "file_extension": ".py",
   "mimetype": "text/x-python",
   "name": "python",
   "nbconvert_exporter": "python",
   "pygments_lexer": "ipython3",
   "version": "3.8.13"
  }
 },
 "nbformat": 4,
 "nbformat_minor": 4
}
