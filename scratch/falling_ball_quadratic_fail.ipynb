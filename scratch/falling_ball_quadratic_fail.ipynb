{
 "cells": [
  {
   "cell_type": "markdown",
   "metadata": {},
   "source": [
    "Accounting for air resistance proportional to square of instantaneous velocity, the coordinates of a ball launched from initial height $h$ in the $xz$ plane, with velocity $v_0$ at an angle $\\theta$ with drag coefficient $c$ are:\n",
    "\n",
    "$$x(t) = \\frac{v_0 v_t^2 \\cos \\theta}{g} \\log \\left(1 - \\frac{gt}{v_t^2}\\right)$$\n",
    "\n",
    "$$z(t) = h + v_t \\tan \\left( \\arctan \\left(\\frac{v_0 \\sin \\theta}{v_t}\\right)t - \\frac{gt^2}{2v_t}\\right)$$\n",
    "\n",
    "where the terminal velocity $v_t$ is given by:\n",
    "\n",
    "$$v_t = \\sqrt{\\frac{mg}{c}}$$\n"
   ]
  },
  {
   "cell_type": "markdown",
   "metadata": {},
   "source": [
    "Now the goal is to test the above for various settings of $\\theta$, $v_0$, $h$ and $c$."
   ]
  },
  {
   "cell_type": "markdown",
   "metadata": {},
   "source": [
    "One nice visualization is given here: https://dynref.engr.illinois.edu/afp.html"
   ]
  },
  {
   "cell_type": "code",
   "execution_count": 1,
   "metadata": {},
   "outputs": [],
   "source": [
    "import numpy as np\n",
    "import matplotlib.pyplot as plt\n",
    "import math"
   ]
  },
  {
   "cell_type": "code",
   "execution_count": 2,
   "metadata": {},
   "outputs": [],
   "source": [
    "c=0.2\n",
    "g=9.81\n",
    "m=1\n",
    "h=8\n",
    "θ=10*np.pi/180\n",
    "v0=6"
   ]
  },
  {
   "cell_type": "code",
   "execution_count": 3,
   "metadata": {},
   "outputs": [],
   "source": [
    "def pos(t, v0=2, m=1, g=9.81, c=0.2, h=8, θ=60*np.pi/180):\n",
    "    v_tm = np.sqrt(m * g / c)\n",
    "    \n",
    "    xpos = v0 * v_tm**2 * (np.cos(θ)/g) * np.log(1 - g * t / v_tm**2)\n",
    "    \n",
    "    zpos = h + v_tm * np.tan(np.arctan(v0 * np.sin(θ)/v_tm) * t - (g*(t**2))/(2 * v_tm))\n",
    "    \n",
    "    return xpos, zpos"
   ]
  },
  {
   "cell_type": "code",
   "execution_count": 5,
   "metadata": {},
   "outputs": [
    {
     "name": "stdout",
     "output_type": "stream",
     "text": [
      "1.2132375626251215\n",
      "-1.002370391647862\n"
     ]
    }
   ],
   "source": [
    "# solve quadratic pol for when zpos = 0:\n",
    "v_tm = np.sqrt(m * g / c)\n",
    "t_ground_all = np.roots(np.array([-g/(2*v_tm), np.arctan(v0 * np.sin(θ)/v_tm), -np.arctan(-h/v_tm)]))\n",
    "print(t_ground_all[0])\n",
    "print(t_ground_all[1])"
   ]
  },
  {
   "cell_type": "code",
   "execution_count": 6,
   "metadata": {},
   "outputs": [],
   "source": [
    "tt = np.linspace(0, t_ground_all[0], 100)\n",
    "xpos, zpos = pos(tt, v0=v0, m=m, g=g, c=c, h=h, θ=θ)"
   ]
  },
  {
   "cell_type": "code",
   "execution_count": 7,
   "metadata": {},
   "outputs": [
    {
     "data": {
      "text/plain": [
       "<matplotlib.collections.PathCollection at 0x7fdb05c5fa00>"
      ]
     },
     "execution_count": 7,
     "metadata": {},
     "output_type": "execute_result"
    },
    {
     "data": {
      "image/png": "[encoded data removed]",
      "text/plain": [
       "<Figure size 640x480 with 1 Axes>"
      ]
     },
     "metadata": {},
     "output_type": "display_data"
    }
   ],
   "source": [
    "# plt.plot(tt, ball_pos)\n",
    "plt.scatter(xpos, zpos)"
   ]
  },
  {
   "cell_type": "code",
   "execution_count": null,
   "metadata": {},
   "outputs": [],
   "source": []
  }
 ],
 "metadata": {
  "@webio": {
   "lastCommId": null,
   "lastKernelId": null
  },
  "kernelspec": {
   "display_name": "Python 3 (ipykernel)",
   "language": "python",
   "name": "python3"
  },
  "language_info": {
   "codemirror_mode": {
    "name": "ipython",
    "version": 3
   },
   "file_extension": ".py",
   "mimetype": "text/x-python",
   "name": "python",
   "nbconvert_exporter": "python",
   "pygments_lexer": "ipython3",
   "version": "3.8.13"
  }
 },
 "nbformat": 4,
 "nbformat_minor": 4
}
